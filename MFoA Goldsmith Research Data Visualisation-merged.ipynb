{
 "cells": [
  {
   "cell_type": "code",
   "execution_count": 1,
   "id": "aa9cab74",
   "metadata": {},
   "outputs": [],
   "source": [
    "import seaborn as sns\n",
    "import pandas as pd\n",
    "%matplotlib inline\n",
    "import matplotlib.pyplot as plt\n",
    "import numpy as np"
   ]
  },
  {
   "cell_type": "code",
   "execution_count": 3,
   "id": "9de40684",
   "metadata": {},
   "outputs": [
    {
     "ename": "HTTPError",
     "evalue": "HTTP Error 403: Forbidden",
     "output_type": "error",
     "traceback": [
      "\u001b[1;31m---------------------------------------------------------------------------\u001b[0m",
      "\u001b[1;31mHTTPError\u001b[0m                                 Traceback (most recent call last)",
      "\u001b[1;32m~\\AppData\\Local\\Temp\\ipykernel_19928\\3363460450.py\u001b[0m in \u001b[0;36m<module>\u001b[1;34m\u001b[0m\n\u001b[1;32m----> 1\u001b[1;33m \u001b[0mMFOA\u001b[0m \u001b[1;33m=\u001b[0m \u001b[0mpd\u001b[0m\u001b[1;33m.\u001b[0m\u001b[0mread_csv\u001b[0m\u001b[1;33m(\u001b[0m\u001b[1;34m'https://raw.githubusercontent.com/lauricocha/MFOA-research-data/main/MFoA-data-per-week.csv'\u001b[0m\u001b[1;33m)\u001b[0m\u001b[1;33m\u001b[0m\u001b[1;33m\u001b[0m\u001b[0m\n\u001b[0m",
      "\u001b[1;32mC:\\ProgramData\\Anaconda3\\lib\\site-packages\\pandas\\util\\_decorators.py\u001b[0m in \u001b[0;36mwrapper\u001b[1;34m(*args, **kwargs)\u001b[0m\n\u001b[0;32m    309\u001b[0m                     \u001b[0mstacklevel\u001b[0m\u001b[1;33m=\u001b[0m\u001b[0mstacklevel\u001b[0m\u001b[1;33m,\u001b[0m\u001b[1;33m\u001b[0m\u001b[1;33m\u001b[0m\u001b[0m\n\u001b[0;32m    310\u001b[0m                 )\n\u001b[1;32m--> 311\u001b[1;33m             \u001b[1;32mreturn\u001b[0m \u001b[0mfunc\u001b[0m\u001b[1;33m(\u001b[0m\u001b[1;33m*\u001b[0m\u001b[0margs\u001b[0m\u001b[1;33m,\u001b[0m \u001b[1;33m**\u001b[0m\u001b[0mkwargs\u001b[0m\u001b[1;33m)\u001b[0m\u001b[1;33m\u001b[0m\u001b[1;33m\u001b[0m\u001b[0m\n\u001b[0m\u001b[0;32m    312\u001b[0m \u001b[1;33m\u001b[0m\u001b[0m\n\u001b[0;32m    313\u001b[0m         \u001b[1;32mreturn\u001b[0m \u001b[0mwrapper\u001b[0m\u001b[1;33m\u001b[0m\u001b[1;33m\u001b[0m\u001b[0m\n",
      "\u001b[1;32mC:\\ProgramData\\Anaconda3\\lib\\site-packages\\pandas\\io\\parsers\\readers.py\u001b[0m in \u001b[0;36mread_csv\u001b[1;34m(filepath_or_buffer, sep, delimiter, header, names, index_col, usecols, squeeze, prefix, mangle_dupe_cols, dtype, engine, converters, true_values, false_values, skipinitialspace, skiprows, skipfooter, nrows, na_values, keep_default_na, na_filter, verbose, skip_blank_lines, parse_dates, infer_datetime_format, keep_date_col, date_parser, dayfirst, cache_dates, iterator, chunksize, compression, thousands, decimal, lineterminator, quotechar, quoting, doublequote, escapechar, comment, encoding, encoding_errors, dialect, error_bad_lines, warn_bad_lines, on_bad_lines, delim_whitespace, low_memory, memory_map, float_precision, storage_options)\u001b[0m\n\u001b[0;32m    676\u001b[0m     \u001b[0mkwds\u001b[0m\u001b[1;33m.\u001b[0m\u001b[0mupdate\u001b[0m\u001b[1;33m(\u001b[0m\u001b[0mkwds_defaults\u001b[0m\u001b[1;33m)\u001b[0m\u001b[1;33m\u001b[0m\u001b[1;33m\u001b[0m\u001b[0m\n\u001b[0;32m    677\u001b[0m \u001b[1;33m\u001b[0m\u001b[0m\n\u001b[1;32m--> 678\u001b[1;33m     \u001b[1;32mreturn\u001b[0m \u001b[0m_read\u001b[0m\u001b[1;33m(\u001b[0m\u001b[0mfilepath_or_buffer\u001b[0m\u001b[1;33m,\u001b[0m \u001b[0mkwds\u001b[0m\u001b[1;33m)\u001b[0m\u001b[1;33m\u001b[0m\u001b[1;33m\u001b[0m\u001b[0m\n\u001b[0m\u001b[0;32m    679\u001b[0m \u001b[1;33m\u001b[0m\u001b[0m\n\u001b[0;32m    680\u001b[0m \u001b[1;33m\u001b[0m\u001b[0m\n",
      "\u001b[1;32mC:\\ProgramData\\Anaconda3\\lib\\site-packages\\pandas\\io\\parsers\\readers.py\u001b[0m in \u001b[0;36m_read\u001b[1;34m(filepath_or_buffer, kwds)\u001b[0m\n\u001b[0;32m    573\u001b[0m \u001b[1;33m\u001b[0m\u001b[0m\n\u001b[0;32m    574\u001b[0m     \u001b[1;31m# Create the parser.\u001b[0m\u001b[1;33m\u001b[0m\u001b[1;33m\u001b[0m\u001b[0m\n\u001b[1;32m--> 575\u001b[1;33m     \u001b[0mparser\u001b[0m \u001b[1;33m=\u001b[0m \u001b[0mTextFileReader\u001b[0m\u001b[1;33m(\u001b[0m\u001b[0mfilepath_or_buffer\u001b[0m\u001b[1;33m,\u001b[0m \u001b[1;33m**\u001b[0m\u001b[0mkwds\u001b[0m\u001b[1;33m)\u001b[0m\u001b[1;33m\u001b[0m\u001b[1;33m\u001b[0m\u001b[0m\n\u001b[0m\u001b[0;32m    576\u001b[0m \u001b[1;33m\u001b[0m\u001b[0m\n\u001b[0;32m    577\u001b[0m     \u001b[1;32mif\u001b[0m \u001b[0mchunksize\u001b[0m \u001b[1;32mor\u001b[0m \u001b[0miterator\u001b[0m\u001b[1;33m:\u001b[0m\u001b[1;33m\u001b[0m\u001b[1;33m\u001b[0m\u001b[0m\n",
      "\u001b[1;32mC:\\ProgramData\\Anaconda3\\lib\\site-packages\\pandas\\io\\parsers\\readers.py\u001b[0m in \u001b[0;36m__init__\u001b[1;34m(self, f, engine, **kwds)\u001b[0m\n\u001b[0;32m    930\u001b[0m \u001b[1;33m\u001b[0m\u001b[0m\n\u001b[0;32m    931\u001b[0m         \u001b[0mself\u001b[0m\u001b[1;33m.\u001b[0m\u001b[0mhandles\u001b[0m\u001b[1;33m:\u001b[0m \u001b[0mIOHandles\u001b[0m \u001b[1;33m|\u001b[0m \u001b[1;32mNone\u001b[0m \u001b[1;33m=\u001b[0m \u001b[1;32mNone\u001b[0m\u001b[1;33m\u001b[0m\u001b[1;33m\u001b[0m\u001b[0m\n\u001b[1;32m--> 932\u001b[1;33m         \u001b[0mself\u001b[0m\u001b[1;33m.\u001b[0m\u001b[0m_engine\u001b[0m \u001b[1;33m=\u001b[0m \u001b[0mself\u001b[0m\u001b[1;33m.\u001b[0m\u001b[0m_make_engine\u001b[0m\u001b[1;33m(\u001b[0m\u001b[0mf\u001b[0m\u001b[1;33m,\u001b[0m \u001b[0mself\u001b[0m\u001b[1;33m.\u001b[0m\u001b[0mengine\u001b[0m\u001b[1;33m)\u001b[0m\u001b[1;33m\u001b[0m\u001b[1;33m\u001b[0m\u001b[0m\n\u001b[0m\u001b[0;32m    933\u001b[0m \u001b[1;33m\u001b[0m\u001b[0m\n\u001b[0;32m    934\u001b[0m     \u001b[1;32mdef\u001b[0m \u001b[0mclose\u001b[0m\u001b[1;33m(\u001b[0m\u001b[0mself\u001b[0m\u001b[1;33m)\u001b[0m\u001b[1;33m:\u001b[0m\u001b[1;33m\u001b[0m\u001b[1;33m\u001b[0m\u001b[0m\n",
      "\u001b[1;32mC:\\ProgramData\\Anaconda3\\lib\\site-packages\\pandas\\io\\parsers\\readers.py\u001b[0m in \u001b[0;36m_make_engine\u001b[1;34m(self, f, engine)\u001b[0m\n\u001b[0;32m   1214\u001b[0m             \u001b[1;31m# \"Union[str, PathLike[str], ReadCsvBuffer[bytes], ReadCsvBuffer[str]]\"\u001b[0m\u001b[1;33m\u001b[0m\u001b[1;33m\u001b[0m\u001b[0m\n\u001b[0;32m   1215\u001b[0m             \u001b[1;31m# , \"str\", \"bool\", \"Any\", \"Any\", \"Any\", \"Any\", \"Any\"\u001b[0m\u001b[1;33m\u001b[0m\u001b[1;33m\u001b[0m\u001b[0m\n\u001b[1;32m-> 1216\u001b[1;33m             self.handles = get_handle(  # type: ignore[call-overload]\n\u001b[0m\u001b[0;32m   1217\u001b[0m                 \u001b[0mf\u001b[0m\u001b[1;33m,\u001b[0m\u001b[1;33m\u001b[0m\u001b[1;33m\u001b[0m\u001b[0m\n\u001b[0;32m   1218\u001b[0m                 \u001b[0mmode\u001b[0m\u001b[1;33m,\u001b[0m\u001b[1;33m\u001b[0m\u001b[1;33m\u001b[0m\u001b[0m\n",
      "\u001b[1;32mC:\\ProgramData\\Anaconda3\\lib\\site-packages\\pandas\\io\\common.py\u001b[0m in \u001b[0;36mget_handle\u001b[1;34m(path_or_buf, mode, encoding, compression, memory_map, is_text, errors, storage_options)\u001b[0m\n\u001b[0;32m    665\u001b[0m \u001b[1;33m\u001b[0m\u001b[0m\n\u001b[0;32m    666\u001b[0m     \u001b[1;31m# open URLs\u001b[0m\u001b[1;33m\u001b[0m\u001b[1;33m\u001b[0m\u001b[0m\n\u001b[1;32m--> 667\u001b[1;33m     ioargs = _get_filepath_or_buffer(\n\u001b[0m\u001b[0;32m    668\u001b[0m         \u001b[0mpath_or_buf\u001b[0m\u001b[1;33m,\u001b[0m\u001b[1;33m\u001b[0m\u001b[1;33m\u001b[0m\u001b[0m\n\u001b[0;32m    669\u001b[0m         \u001b[0mencoding\u001b[0m\u001b[1;33m=\u001b[0m\u001b[0mencoding\u001b[0m\u001b[1;33m,\u001b[0m\u001b[1;33m\u001b[0m\u001b[1;33m\u001b[0m\u001b[0m\n",
      "\u001b[1;32mC:\\ProgramData\\Anaconda3\\lib\\site-packages\\pandas\\io\\common.py\u001b[0m in \u001b[0;36m_get_filepath_or_buffer\u001b[1;34m(filepath_or_buffer, encoding, compression, mode, storage_options)\u001b[0m\n\u001b[0;32m    334\u001b[0m         \u001b[1;31m# assuming storage_options is to be interpreted as headers\u001b[0m\u001b[1;33m\u001b[0m\u001b[1;33m\u001b[0m\u001b[0m\n\u001b[0;32m    335\u001b[0m         \u001b[0mreq_info\u001b[0m \u001b[1;33m=\u001b[0m \u001b[0murllib\u001b[0m\u001b[1;33m.\u001b[0m\u001b[0mrequest\u001b[0m\u001b[1;33m.\u001b[0m\u001b[0mRequest\u001b[0m\u001b[1;33m(\u001b[0m\u001b[0mfilepath_or_buffer\u001b[0m\u001b[1;33m,\u001b[0m \u001b[0mheaders\u001b[0m\u001b[1;33m=\u001b[0m\u001b[0mstorage_options\u001b[0m\u001b[1;33m)\u001b[0m\u001b[1;33m\u001b[0m\u001b[1;33m\u001b[0m\u001b[0m\n\u001b[1;32m--> 336\u001b[1;33m         \u001b[1;32mwith\u001b[0m \u001b[0murlopen\u001b[0m\u001b[1;33m(\u001b[0m\u001b[0mreq_info\u001b[0m\u001b[1;33m)\u001b[0m \u001b[1;32mas\u001b[0m \u001b[0mreq\u001b[0m\u001b[1;33m:\u001b[0m\u001b[1;33m\u001b[0m\u001b[1;33m\u001b[0m\u001b[0m\n\u001b[0m\u001b[0;32m    337\u001b[0m             \u001b[0mcontent_encoding\u001b[0m \u001b[1;33m=\u001b[0m \u001b[0mreq\u001b[0m\u001b[1;33m.\u001b[0m\u001b[0mheaders\u001b[0m\u001b[1;33m.\u001b[0m\u001b[0mget\u001b[0m\u001b[1;33m(\u001b[0m\u001b[1;34m\"Content-Encoding\"\u001b[0m\u001b[1;33m,\u001b[0m \u001b[1;32mNone\u001b[0m\u001b[1;33m)\u001b[0m\u001b[1;33m\u001b[0m\u001b[1;33m\u001b[0m\u001b[0m\n\u001b[0;32m    338\u001b[0m             \u001b[1;32mif\u001b[0m \u001b[0mcontent_encoding\u001b[0m \u001b[1;33m==\u001b[0m \u001b[1;34m\"gzip\"\u001b[0m\u001b[1;33m:\u001b[0m\u001b[1;33m\u001b[0m\u001b[1;33m\u001b[0m\u001b[0m\n",
      "\u001b[1;32mC:\\ProgramData\\Anaconda3\\lib\\site-packages\\pandas\\io\\common.py\u001b[0m in \u001b[0;36murlopen\u001b[1;34m(*args, **kwargs)\u001b[0m\n\u001b[0;32m    234\u001b[0m     \u001b[1;32mimport\u001b[0m \u001b[0murllib\u001b[0m\u001b[1;33m.\u001b[0m\u001b[0mrequest\u001b[0m\u001b[1;33m\u001b[0m\u001b[1;33m\u001b[0m\u001b[0m\n\u001b[0;32m    235\u001b[0m \u001b[1;33m\u001b[0m\u001b[0m\n\u001b[1;32m--> 236\u001b[1;33m     \u001b[1;32mreturn\u001b[0m \u001b[0murllib\u001b[0m\u001b[1;33m.\u001b[0m\u001b[0mrequest\u001b[0m\u001b[1;33m.\u001b[0m\u001b[0murlopen\u001b[0m\u001b[1;33m(\u001b[0m\u001b[1;33m*\u001b[0m\u001b[0margs\u001b[0m\u001b[1;33m,\u001b[0m \u001b[1;33m**\u001b[0m\u001b[0mkwargs\u001b[0m\u001b[1;33m)\u001b[0m\u001b[1;33m\u001b[0m\u001b[1;33m\u001b[0m\u001b[0m\n\u001b[0m\u001b[0;32m    237\u001b[0m \u001b[1;33m\u001b[0m\u001b[0m\n\u001b[0;32m    238\u001b[0m \u001b[1;33m\u001b[0m\u001b[0m\n",
      "\u001b[1;32mC:\\ProgramData\\Anaconda3\\lib\\urllib\\request.py\u001b[0m in \u001b[0;36murlopen\u001b[1;34m(url, data, timeout, cafile, capath, cadefault, context)\u001b[0m\n\u001b[0;32m    212\u001b[0m     \u001b[1;32melse\u001b[0m\u001b[1;33m:\u001b[0m\u001b[1;33m\u001b[0m\u001b[1;33m\u001b[0m\u001b[0m\n\u001b[0;32m    213\u001b[0m         \u001b[0mopener\u001b[0m \u001b[1;33m=\u001b[0m \u001b[0m_opener\u001b[0m\u001b[1;33m\u001b[0m\u001b[1;33m\u001b[0m\u001b[0m\n\u001b[1;32m--> 214\u001b[1;33m     \u001b[1;32mreturn\u001b[0m \u001b[0mopener\u001b[0m\u001b[1;33m.\u001b[0m\u001b[0mopen\u001b[0m\u001b[1;33m(\u001b[0m\u001b[0murl\u001b[0m\u001b[1;33m,\u001b[0m \u001b[0mdata\u001b[0m\u001b[1;33m,\u001b[0m \u001b[0mtimeout\u001b[0m\u001b[1;33m)\u001b[0m\u001b[1;33m\u001b[0m\u001b[1;33m\u001b[0m\u001b[0m\n\u001b[0m\u001b[0;32m    215\u001b[0m \u001b[1;33m\u001b[0m\u001b[0m\n\u001b[0;32m    216\u001b[0m \u001b[1;32mdef\u001b[0m \u001b[0minstall_opener\u001b[0m\u001b[1;33m(\u001b[0m\u001b[0mopener\u001b[0m\u001b[1;33m)\u001b[0m\u001b[1;33m:\u001b[0m\u001b[1;33m\u001b[0m\u001b[1;33m\u001b[0m\u001b[0m\n",
      "\u001b[1;32mC:\\ProgramData\\Anaconda3\\lib\\urllib\\request.py\u001b[0m in \u001b[0;36mopen\u001b[1;34m(self, fullurl, data, timeout)\u001b[0m\n\u001b[0;32m    521\u001b[0m         \u001b[1;32mfor\u001b[0m \u001b[0mprocessor\u001b[0m \u001b[1;32min\u001b[0m \u001b[0mself\u001b[0m\u001b[1;33m.\u001b[0m\u001b[0mprocess_response\u001b[0m\u001b[1;33m.\u001b[0m\u001b[0mget\u001b[0m\u001b[1;33m(\u001b[0m\u001b[0mprotocol\u001b[0m\u001b[1;33m,\u001b[0m \u001b[1;33m[\u001b[0m\u001b[1;33m]\u001b[0m\u001b[1;33m)\u001b[0m\u001b[1;33m:\u001b[0m\u001b[1;33m\u001b[0m\u001b[1;33m\u001b[0m\u001b[0m\n\u001b[0;32m    522\u001b[0m             \u001b[0mmeth\u001b[0m \u001b[1;33m=\u001b[0m \u001b[0mgetattr\u001b[0m\u001b[1;33m(\u001b[0m\u001b[0mprocessor\u001b[0m\u001b[1;33m,\u001b[0m \u001b[0mmeth_name\u001b[0m\u001b[1;33m)\u001b[0m\u001b[1;33m\u001b[0m\u001b[1;33m\u001b[0m\u001b[0m\n\u001b[1;32m--> 523\u001b[1;33m             \u001b[0mresponse\u001b[0m \u001b[1;33m=\u001b[0m \u001b[0mmeth\u001b[0m\u001b[1;33m(\u001b[0m\u001b[0mreq\u001b[0m\u001b[1;33m,\u001b[0m \u001b[0mresponse\u001b[0m\u001b[1;33m)\u001b[0m\u001b[1;33m\u001b[0m\u001b[1;33m\u001b[0m\u001b[0m\n\u001b[0m\u001b[0;32m    524\u001b[0m \u001b[1;33m\u001b[0m\u001b[0m\n\u001b[0;32m    525\u001b[0m         \u001b[1;32mreturn\u001b[0m \u001b[0mresponse\u001b[0m\u001b[1;33m\u001b[0m\u001b[1;33m\u001b[0m\u001b[0m\n",
      "\u001b[1;32mC:\\ProgramData\\Anaconda3\\lib\\urllib\\request.py\u001b[0m in \u001b[0;36mhttp_response\u001b[1;34m(self, request, response)\u001b[0m\n\u001b[0;32m    630\u001b[0m         \u001b[1;31m# request was successfully received, understood, and accepted.\u001b[0m\u001b[1;33m\u001b[0m\u001b[1;33m\u001b[0m\u001b[0m\n\u001b[0;32m    631\u001b[0m         \u001b[1;32mif\u001b[0m \u001b[1;32mnot\u001b[0m \u001b[1;33m(\u001b[0m\u001b[1;36m200\u001b[0m \u001b[1;33m<=\u001b[0m \u001b[0mcode\u001b[0m \u001b[1;33m<\u001b[0m \u001b[1;36m300\u001b[0m\u001b[1;33m)\u001b[0m\u001b[1;33m:\u001b[0m\u001b[1;33m\u001b[0m\u001b[1;33m\u001b[0m\u001b[0m\n\u001b[1;32m--> 632\u001b[1;33m             response = self.parent.error(\n\u001b[0m\u001b[0;32m    633\u001b[0m                 'http', request, response, code, msg, hdrs)\n\u001b[0;32m    634\u001b[0m \u001b[1;33m\u001b[0m\u001b[0m\n",
      "\u001b[1;32mC:\\ProgramData\\Anaconda3\\lib\\urllib\\request.py\u001b[0m in \u001b[0;36merror\u001b[1;34m(self, proto, *args)\u001b[0m\n\u001b[0;32m    559\u001b[0m         \u001b[1;32mif\u001b[0m \u001b[0mhttp_err\u001b[0m\u001b[1;33m:\u001b[0m\u001b[1;33m\u001b[0m\u001b[1;33m\u001b[0m\u001b[0m\n\u001b[0;32m    560\u001b[0m             \u001b[0margs\u001b[0m \u001b[1;33m=\u001b[0m \u001b[1;33m(\u001b[0m\u001b[0mdict\u001b[0m\u001b[1;33m,\u001b[0m \u001b[1;34m'default'\u001b[0m\u001b[1;33m,\u001b[0m \u001b[1;34m'http_error_default'\u001b[0m\u001b[1;33m)\u001b[0m \u001b[1;33m+\u001b[0m \u001b[0morig_args\u001b[0m\u001b[1;33m\u001b[0m\u001b[1;33m\u001b[0m\u001b[0m\n\u001b[1;32m--> 561\u001b[1;33m             \u001b[1;32mreturn\u001b[0m \u001b[0mself\u001b[0m\u001b[1;33m.\u001b[0m\u001b[0m_call_chain\u001b[0m\u001b[1;33m(\u001b[0m\u001b[1;33m*\u001b[0m\u001b[0margs\u001b[0m\u001b[1;33m)\u001b[0m\u001b[1;33m\u001b[0m\u001b[1;33m\u001b[0m\u001b[0m\n\u001b[0m\u001b[0;32m    562\u001b[0m \u001b[1;33m\u001b[0m\u001b[0m\n\u001b[0;32m    563\u001b[0m \u001b[1;31m# XXX probably also want an abstract factory that knows when it makes\u001b[0m\u001b[1;33m\u001b[0m\u001b[1;33m\u001b[0m\u001b[0m\n",
      "\u001b[1;32mC:\\ProgramData\\Anaconda3\\lib\\urllib\\request.py\u001b[0m in \u001b[0;36m_call_chain\u001b[1;34m(self, chain, kind, meth_name, *args)\u001b[0m\n\u001b[0;32m    492\u001b[0m         \u001b[1;32mfor\u001b[0m \u001b[0mhandler\u001b[0m \u001b[1;32min\u001b[0m \u001b[0mhandlers\u001b[0m\u001b[1;33m:\u001b[0m\u001b[1;33m\u001b[0m\u001b[1;33m\u001b[0m\u001b[0m\n\u001b[0;32m    493\u001b[0m             \u001b[0mfunc\u001b[0m \u001b[1;33m=\u001b[0m \u001b[0mgetattr\u001b[0m\u001b[1;33m(\u001b[0m\u001b[0mhandler\u001b[0m\u001b[1;33m,\u001b[0m \u001b[0mmeth_name\u001b[0m\u001b[1;33m)\u001b[0m\u001b[1;33m\u001b[0m\u001b[1;33m\u001b[0m\u001b[0m\n\u001b[1;32m--> 494\u001b[1;33m             \u001b[0mresult\u001b[0m \u001b[1;33m=\u001b[0m \u001b[0mfunc\u001b[0m\u001b[1;33m(\u001b[0m\u001b[1;33m*\u001b[0m\u001b[0margs\u001b[0m\u001b[1;33m)\u001b[0m\u001b[1;33m\u001b[0m\u001b[1;33m\u001b[0m\u001b[0m\n\u001b[0m\u001b[0;32m    495\u001b[0m             \u001b[1;32mif\u001b[0m \u001b[0mresult\u001b[0m \u001b[1;32mis\u001b[0m \u001b[1;32mnot\u001b[0m \u001b[1;32mNone\u001b[0m\u001b[1;33m:\u001b[0m\u001b[1;33m\u001b[0m\u001b[1;33m\u001b[0m\u001b[0m\n\u001b[0;32m    496\u001b[0m                 \u001b[1;32mreturn\u001b[0m \u001b[0mresult\u001b[0m\u001b[1;33m\u001b[0m\u001b[1;33m\u001b[0m\u001b[0m\n",
      "\u001b[1;32mC:\\ProgramData\\Anaconda3\\lib\\urllib\\request.py\u001b[0m in \u001b[0;36mhttp_error_default\u001b[1;34m(self, req, fp, code, msg, hdrs)\u001b[0m\n\u001b[0;32m    639\u001b[0m \u001b[1;32mclass\u001b[0m \u001b[0mHTTPDefaultErrorHandler\u001b[0m\u001b[1;33m(\u001b[0m\u001b[0mBaseHandler\u001b[0m\u001b[1;33m)\u001b[0m\u001b[1;33m:\u001b[0m\u001b[1;33m\u001b[0m\u001b[1;33m\u001b[0m\u001b[0m\n\u001b[0;32m    640\u001b[0m     \u001b[1;32mdef\u001b[0m \u001b[0mhttp_error_default\u001b[0m\u001b[1;33m(\u001b[0m\u001b[0mself\u001b[0m\u001b[1;33m,\u001b[0m \u001b[0mreq\u001b[0m\u001b[1;33m,\u001b[0m \u001b[0mfp\u001b[0m\u001b[1;33m,\u001b[0m \u001b[0mcode\u001b[0m\u001b[1;33m,\u001b[0m \u001b[0mmsg\u001b[0m\u001b[1;33m,\u001b[0m \u001b[0mhdrs\u001b[0m\u001b[1;33m)\u001b[0m\u001b[1;33m:\u001b[0m\u001b[1;33m\u001b[0m\u001b[1;33m\u001b[0m\u001b[0m\n\u001b[1;32m--> 641\u001b[1;33m         \u001b[1;32mraise\u001b[0m \u001b[0mHTTPError\u001b[0m\u001b[1;33m(\u001b[0m\u001b[0mreq\u001b[0m\u001b[1;33m.\u001b[0m\u001b[0mfull_url\u001b[0m\u001b[1;33m,\u001b[0m \u001b[0mcode\u001b[0m\u001b[1;33m,\u001b[0m \u001b[0mmsg\u001b[0m\u001b[1;33m,\u001b[0m \u001b[0mhdrs\u001b[0m\u001b[1;33m,\u001b[0m \u001b[0mfp\u001b[0m\u001b[1;33m)\u001b[0m\u001b[1;33m\u001b[0m\u001b[1;33m\u001b[0m\u001b[0m\n\u001b[0m\u001b[0;32m    642\u001b[0m \u001b[1;33m\u001b[0m\u001b[0m\n\u001b[0;32m    643\u001b[0m \u001b[1;32mclass\u001b[0m \u001b[0mHTTPRedirectHandler\u001b[0m\u001b[1;33m(\u001b[0m\u001b[0mBaseHandler\u001b[0m\u001b[1;33m)\u001b[0m\u001b[1;33m:\u001b[0m\u001b[1;33m\u001b[0m\u001b[1;33m\u001b[0m\u001b[0m\n",
      "\u001b[1;31mHTTPError\u001b[0m: HTTP Error 403: Forbidden"
     ]
    }
   ],
   "source": [
    "MFOA = pd.read_csv('https://raw.githubusercontent.com/lauricocha/MFOA-research-data/main/MFoA-data-per-week.csv')"
   ]
  },
  {
   "cell_type": "code",
   "execution_count": null,
   "id": "cbc2c74a",
   "metadata": {},
   "outputs": [],
   "source": [
    "MFOA.info()      "
   ]
  },
  {
   "cell_type": "code",
   "execution_count": null,
   "id": "0378c1fc",
   "metadata": {},
   "outputs": [],
   "source": [
    "MFOA.head(20)"
   ]
  },
  {
   "cell_type": "code",
   "execution_count": null,
   "id": "2fca5792",
   "metadata": {},
   "outputs": [],
   "source": [
    "MFOA.describe()"
   ]
  },
  {
   "cell_type": "code",
   "execution_count": null,
   "id": "0d424d2a",
   "metadata": {},
   "outputs": [],
   "source": [
    "MFOA.isna()"
   ]
  },
  {
   "cell_type": "code",
   "execution_count": null,
   "id": "b304206f",
   "metadata": {},
   "outputs": [],
   "source": [
    "MFOA.info()"
   ]
  },
  {
   "cell_type": "code",
   "execution_count": null,
   "id": "e402fd8b",
   "metadata": {},
   "outputs": [],
   "source": [
    "import plotly.graph_objects as go\n",
    "\n",
    "import pandas as pd\n",
    "\n",
    "df = pd.read_csv('/users/lauragallo/Desktop/DATA/MFoA-data-per-week.csv')\n",
    "\n",
    "fig = go.Figure()\n",
    "\n",
    "Weeks_done = ['8 wks', '5-4 wks', '3-2 wks', '1 wk', '0 wks']\n",
    "\n",
    "for Weeks_done in Weeks_done:\n",
    "    fig.add_trace(go.Violin(x=df['Weeks_done'][df['Weeks_done'] == Weeks_done],\n",
    "                            y=df['STAI-change'][df['Weeks_done'] == Weeks_done],\n",
    "                            name=Weeks_done,\n",
    "                            box_visible=True,\n",
    "                            meanline_visible=True))\n",
    "    \n",
    "    fig.update_layout(title=\"Effect of Intervention on Anxiety Reduction Over Weeks Completed\",\n",
    "    title_font=dict(size=22))\n",
    "    \n",
    "    fig.add_annotation(\n",
    "    text=\"Chi-squared statistic: 151.58<br>P-value: 0.296<br>Degrees of freedom: 143\",\n",
    "    x=2,  # Adjust the x and y values for proper positioning\n",
    "    y=-24,\n",
    "    showarrow=False,\n",
    "    font=dict(size=16),  # Adjust the font size as needed\n",
    ")\n",
    "\n",
    "fig.show()"
   ]
  },
  {
   "cell_type": "code",
   "execution_count": null,
   "id": "75c27e6b",
   "metadata": {},
   "outputs": [],
   "source": [
    "cols = ['Anxiety_level','STAI-change','Weeks_done']\n",
    "ComValue = df[cols]"
   ]
  },
  {
   "cell_type": "code",
   "execution_count": null,
   "id": "67668344",
   "metadata": {},
   "outputs": [],
   "source": [
    "ComValue"
   ]
  },
  {
   "cell_type": "code",
   "execution_count": null,
   "id": "0c04a2ab",
   "metadata": {},
   "outputs": [],
   "source": [
    "df2 = ComValue.loc[(df['Weeks_done'] !='Zero')]\n",
    "df2"
   ]
  },
  {
   "cell_type": "code",
   "execution_count": null,
   "id": "0a976000",
   "metadata": {},
   "outputs": [],
   "source": [
    "import plotly.graph_objects as go\n",
    "\n",
    "import pandas as pd\n",
    "\n",
    "df = pd.read_csv('/users/lauragallo/Desktop/DATA/MFoA-data-per-week.csv')\n",
    "\n",
    "fig = go.Figure()\n",
    "\n",
    "Anxiety_level = ['low_anxiety', 'moderate_anxiety', 'high_anxiety']\n",
    "\n",
    "for Anxiety_level in Anxiety_level:\n",
    "    fig.add_trace(go.Violin(x=df2['Anxiety_level'][df['Anxiety_level'] == Anxiety_level],\n",
    "                            y=df2['STAI-change'][df['Anxiety_level'] == Anxiety_level],\n",
    "                            name=Anxiety_level,\n",
    "                            box_visible=True,\n",
    "                            meanline_visible=True))\n",
    "    fig.update_layout(title=\"Effect of Intervention on Lowering Anxiety Across Various Initial Anxiety Levels\",\n",
    "    title_font=dict(size=22))\n",
    "    \n",
    "    fig.add_annotation(\n",
    "    text=\"Chi-squared statistic: 18.42<br>P-value: 0.00102<br>Degrees of freedom: 4\",\n",
    "    x=0.2,  # Adjust the x and y values for proper positioning\n",
    "    y=-22,\n",
    "    showarrow=False,\n",
    "    font=dict(size=16),  # Adjust the font size as needed\n",
    ")\n",
    "\n",
    "fig.show()"
   ]
  },
  {
   "cell_type": "code",
   "execution_count": null,
   "id": "11991c6e",
   "metadata": {},
   "outputs": [],
   "source": [
    "columns_to_drop = ['Age', 'STAI-T0', 'STAI-T1', 'Liking', 'Application', 'Gender', 'Ethnicity ID', 'Weeks_done','VAIAK', 'SSCS']  # Replace with the actual column names\n",
    "Anxiety = MFOA.drop(columns_to_drop, axis=1)\n",
    "\n",
    "Anxiety"
   ]
  },
  {
   "cell_type": "code",
   "execution_count": null,
   "id": "b0ead58a",
   "metadata": {},
   "outputs": [],
   "source": [
    "Anxiety.corr()"
   ]
  },
  {
   "cell_type": "code",
   "execution_count": null,
   "id": "36052bb7",
   "metadata": {},
   "outputs": [],
   "source": [
    "corr = Anxiety.corr().round(2)\n",
    "\n",
    "# plot the heatmap\n",
    "plt.figure(figsize = (8,6))\n",
    "\n",
    "#viz the heatmap\n",
    "sns.heatmap(corr, annot= True)"
   ]
  },
  {
   "cell_type": "code",
   "execution_count": null,
   "id": "f6634e9c",
   "metadata": {},
   "outputs": [],
   "source": [
    "columns_to_drop = ['Age', 'STAI-T0', 'STAI-T1', 'Liking', 'Application', 'Gender', 'Ethnicity ID', 'Weeks_Completed']  # Replace with the actual column names\n",
    "Artsy = MFOA.drop(columns_to_drop, axis=1)\n",
    "\n",
    "Artsy"
   ]
  },
  {
   "cell_type": "code",
   "execution_count": null,
   "id": "c2c171a5",
   "metadata": {
    "scrolled": false
   },
   "outputs": [],
   "source": [
    "Artsy.corr()"
   ]
  },
  {
   "cell_type": "code",
   "execution_count": null,
   "id": "3cc9fccf",
   "metadata": {},
   "outputs": [],
   "source": [
    "corr = Artsy.corr().round(2)\n",
    "\n",
    "# plot the heatmap\n",
    "plt.figure(figsize = (8,6))\n",
    "\n",
    "#viz the heatmap\n",
    "sns.heatmap(corr, annot= True)"
   ]
  },
  {
   "cell_type": "code",
   "execution_count": null,
   "id": "be5b746b",
   "metadata": {},
   "outputs": [],
   "source": [
    "# Define a custom color palette (you can replace these with your desired colors)\n",
    "custom_palette = [\"#7c1c5b\"]\n",
    "\n",
    "# Set the custom color palette\n",
    "sns.set_palette(custom_palette)\n",
    "ax = corr['STAI-change'].sort_values()[:-1].plot(kind = 'bar', figsize = (10,6))\n",
    "ax.set_title('Spearman Correlation', loc='left', y=1.05)\n",
    "\n",
    "ax.bar_label(ax.containers[0]);"
   ]
  },
  {
   "cell_type": "code",
   "execution_count": null,
   "id": "e8541418",
   "metadata": {},
   "outputs": [],
   "source": [
    "  pip install pandas scipy"
   ]
  },
  {
   "cell_type": "code",
   "execution_count": null,
   "id": "cbff2611",
   "metadata": {},
   "outputs": [],
   "source": [
    "import plotly.express as px\n",
    "color_scale_min = -18\n",
    "color_scale_max = 8\n",
    "df = px.data.wind()\n",
    "fig = px.bar_polar(MFOA, r=\"VAIAK\", theta=\"ID\", color=\"STAI-change\", range_color=[color_scale_min, color_scale_max],\n",
    "                   template=\"plotly_dark\",\n",
    "                   color_continuous_scale= px.colors.sequential.Plasma_r,\n",
    "                   title=\"Participant's Art Interest and Art Knowledge Effect on Art Intervention\"                  \n",
    ")\n",
    "# Customize the title font size\n",
    "fig.update_layout(title=dict(font=dict(size=24)))  # Adjust the size as needed\n",
    "\n",
    "fig.show()"
   ]
  },
  {
   "cell_type": "code",
   "execution_count": null,
   "id": "3666312a",
   "metadata": {},
   "outputs": [],
   "source": [
    "cols = ['VAIAK','STAI-change','Weeks_done']\n",
    "ComValue = MFOA[cols]"
   ]
  },
  {
   "cell_type": "code",
   "execution_count": null,
   "id": "03a70015",
   "metadata": {},
   "outputs": [],
   "source": [
    "ComValue"
   ]
  },
  {
   "cell_type": "code",
   "execution_count": null,
   "id": "3ad58eed",
   "metadata": {},
   "outputs": [],
   "source": [
    "df3 = ComValue.loc[(MFOA['Weeks_done'] !='Zero')]\n",
    "df3"
   ]
  },
  {
   "cell_type": "code",
   "execution_count": null,
   "id": "c29bdc8d",
   "metadata": {},
   "outputs": [],
   "source": [
    "df3.describe()"
   ]
  },
  {
   "cell_type": "code",
   "execution_count": null,
   "id": "9c8baaa9",
   "metadata": {},
   "outputs": [],
   "source": [
    "contingency_table = pd.crosstab(df3['VAIAK'], df3['STAI-change'])"
   ]
  },
  {
   "cell_type": "code",
   "execution_count": null,
   "id": "3d21084e",
   "metadata": {},
   "outputs": [],
   "source": [
    "from scipy.stats import chi2_contingency\n",
    "\n",
    "chi2, p, dof, expected = chi2_contingency(contingency_table)\n",
    "\n",
    "# Output the results\n",
    "print(f\"Chi-squared statistic: {chi2}\")\n",
    "print(f\"P-value: {p}\")\n",
    "print(f\"Degrees of freedom: {dof}\")\n",
    "print(\"Expected frequencies:\")\n",
    "print(expected)"
   ]
  },
  {
   "cell_type": "code",
   "execution_count": null,
   "id": "602b2bf8",
   "metadata": {},
   "outputs": [],
   "source": [
    "correlation = df3['VAIAK'].corr(df3['STAI-change'])"
   ]
  },
  {
   "cell_type": "code",
   "execution_count": null,
   "id": "12def747",
   "metadata": {},
   "outputs": [],
   "source": [
    "# Check the correlation\n",
    "if correlation == 0:\n",
    "    print(\"There is no linear correlation between the two columns.\")\n",
    "else:\n",
    "    print(f\"There is a correlation of {correlation:.2f} between the two columns.\")\n"
   ]
  },
  {
   "cell_type": "code",
   "execution_count": null,
   "id": "a2cf4828",
   "metadata": {},
   "outputs": [],
   "source": [
    "from scipy.stats import pearsonr\n",
    "correlation, p_value = pearsonr(df3['VAIAK'], df3['STAI-change'])"
   ]
  },
  {
   "cell_type": "code",
   "execution_count": null,
   "id": "24526913",
   "metadata": {},
   "outputs": [],
   "source": [
    "correlation_coefficient, p_value = pearsonr(df3['VAIAK'], df3['STAI-change'])\n",
    "\n",
    "# Output the results\n",
    "print(f\"Pearson correlation coefficient (r): {correlation_coefficient}\")\n",
    "print(f\"P-value: {p_value}\")"
   ]
  },
  {
   "cell_type": "code",
   "execution_count": null,
   "id": "97bdc5cf",
   "metadata": {},
   "outputs": [],
   "source": [
    "if p_value < 0.05:  # You can adjust the significance level (alpha) as needed\n",
    "    print(f\"There is a statistically significant correlation of {correlation:.2f} between the two columns.\")\n",
    "else:\n",
    "    print(f\"There is no statistically significant correlation between the two columns.\")"
   ]
  },
  {
   "cell_type": "code",
   "execution_count": null,
   "id": "07ae58b5",
   "metadata": {},
   "outputs": [],
   "source": [
    "import plotly.express as px\n",
    "color_scale_min = -18\n",
    "color_scale_max = 8\n",
    "df = px.data.wind()\n",
    "fig = px.bar_polar(MFOA, r=\"SSCS\", theta=\"ID\", color=\"STAI-change\", range_color=[color_scale_min, color_scale_max],\n",
    "                   template=\"plotly_dark\",\n",
    "                   color_continuous_scale=px.colors.sequential.Viridis,\n",
    "                   title=\"Participant's Self-perceived levels of creativity Effect on Art Intervention\"                  \n",
    ")\n",
    "# Customize the title font size\n",
    "fig.update_layout(title=dict(font=dict(size=24)))  # Adjust the size as needed\n",
    "\n",
    "fig.show()"
   ]
  },
  {
   "cell_type": "code",
   "execution_count": null,
   "id": "bd8593b3",
   "metadata": {},
   "outputs": [],
   "source": [
    "MFOA = pd.read_csv('/users/lauragallo/Desktop/DATA/MFoA-data-per-week.csv')"
   ]
  },
  {
   "cell_type": "code",
   "execution_count": null,
   "id": "250865a3",
   "metadata": {},
   "outputs": [],
   "source": [
    "cols = ['SSCS','STAI-change','Weeks_done']\n",
    "ComValue = MFOA[cols]"
   ]
  },
  {
   "cell_type": "code",
   "execution_count": null,
   "id": "6aea557a",
   "metadata": {},
   "outputs": [],
   "source": [
    "ComValue"
   ]
  },
  {
   "cell_type": "code",
   "execution_count": null,
   "id": "8d418fb1",
   "metadata": {},
   "outputs": [],
   "source": [
    "df4 = ComValue.loc[(MFOA['Weeks_done'] !='Zero')]\n",
    "df4"
   ]
  },
  {
   "cell_type": "code",
   "execution_count": null,
   "id": "3705b969",
   "metadata": {},
   "outputs": [],
   "source": [
    "contingency_table = pd.crosstab(df4['SSCS'], df4['STAI-change'])"
   ]
  },
  {
   "cell_type": "code",
   "execution_count": null,
   "id": "af7a8e74",
   "metadata": {},
   "outputs": [],
   "source": [
    "from scipy.stats import chi2_contingency\n",
    "\n",
    "chi2, p, dof, expected = chi2_contingency(contingency_table)\n",
    "\n",
    "# Output the results\n",
    "print(f\"Chi-squared statistic: {chi2}\")\n",
    "print(f\"P-value: {p}\")\n",
    "print(f\"Degrees of freedom: {dof}\")\n",
    "print(\"Expected frequencies:\")\n",
    "print(expected)"
   ]
  },
  {
   "cell_type": "code",
   "execution_count": null,
   "id": "4cf8a12e",
   "metadata": {},
   "outputs": [],
   "source": [
    "correlation = df4['SSCS'].corr(df4['STAI-change'])"
   ]
  },
  {
   "cell_type": "code",
   "execution_count": null,
   "id": "db4952f2",
   "metadata": {},
   "outputs": [],
   "source": [
    "# Check the correlation\n",
    "if correlation == 0:\n",
    "    print(\"There is no linear correlation between the two columns.\")\n",
    "else:\n",
    "    print(f\"There is a correlation of {correlation:.2f} between the two columns.\")"
   ]
  },
  {
   "cell_type": "code",
   "execution_count": null,
   "id": "c923f6a4",
   "metadata": {},
   "outputs": [],
   "source": [
    "from scipy.stats import pearsonr\n",
    "correlation, p_value = pearsonr(df4['SSCS'], df4['STAI-change'])"
   ]
  },
  {
   "cell_type": "code",
   "execution_count": null,
   "id": "98df9b7f",
   "metadata": {},
   "outputs": [],
   "source": [
    "correlation_coefficient, p_value = pearsonr(df4['SSCS'], df4['STAI-change'])\n",
    "\n",
    "# Output the results\n",
    "print(f\"Pearson correlation coefficient (r): {correlation_coefficient}\")\n",
    "print(f\"P-value: {p_value}\")"
   ]
  },
  {
   "cell_type": "code",
   "execution_count": null,
   "id": "658a2913",
   "metadata": {},
   "outputs": [],
   "source": [
    "if p_value < 0.05:  # You can adjust the significance level (alpha) as needed\n",
    "    print(f\"There is a statistically significant correlation of {correlation:.2f} between the two columns.\")\n",
    "else:\n",
    "    print(f\"There is no statistically significant correlation between the two columns.\")    "
   ]
  },
  {
   "cell_type": "code",
   "execution_count": null,
   "id": "f7335e2d",
   "metadata": {},
   "outputs": [],
   "source": [
    "df4.describe()"
   ]
  },
  {
   "cell_type": "code",
   "execution_count": null,
   "id": "b8a3603e",
   "metadata": {},
   "outputs": [],
   "source": [
    "contingency_table = pd.crosstab(MFOA['Weeks_Completed'], MFOA['STAI-change'])"
   ]
  },
  {
   "cell_type": "code",
   "execution_count": null,
   "id": "9e90bdfe",
   "metadata": {},
   "outputs": [],
   "source": [
    "from scipy.stats import chi2_contingency\n",
    "\n",
    "chi2, p, dof, expected = chi2_contingency(contingency_table)\n",
    "\n",
    "# Output the results\n",
    "print(f\"Chi-squared statistic: {chi2}\")\n",
    "print(f\"P-value: {p}\")\n",
    "print(f\"Degrees of freedom: {dof}\")\n",
    "print(\"Expected frequencies:\")\n",
    "print(expected)"
   ]
  },
  {
   "cell_type": "code",
   "execution_count": null,
   "id": "fe55aefd",
   "metadata": {},
   "outputs": [],
   "source": [
    "correlation = MFOA['Weeks_Completed'].corr(MFOA['STAI-change'])"
   ]
  },
  {
   "cell_type": "code",
   "execution_count": null,
   "id": "6a7e85e7",
   "metadata": {},
   "outputs": [],
   "source": [
    "# Check the correlation\n",
    "if correlation == 0:\n",
    "    print(\"There is no linear correlation between the two columns.\")\n",
    "else:\n",
    "    print(f\"There is a correlation of {correlation:.2f} between the two columns.\")"
   ]
  },
  {
   "cell_type": "code",
   "execution_count": null,
   "id": "92f41b3b",
   "metadata": {},
   "outputs": [],
   "source": [
    "from scipy.stats import pearsonr\n",
    "correlation, p_value = pearsonr(MFOA['Weeks_Completed'], MFOA['STAI-change'])"
   ]
  },
  {
   "cell_type": "code",
   "execution_count": null,
   "id": "4537628c",
   "metadata": {},
   "outputs": [],
   "source": [
    "correlation_coefficient, p_value = pearsonr(MFOA['Weeks_Completed'], MFOA['STAI-change'])\n",
    "\n",
    "# Output the results\n",
    "print(f\"Pearson correlation coefficient (r): {correlation_coefficient}\")\n",
    "print(f\"P-value: {p_value}\")"
   ]
  },
  {
   "cell_type": "code",
   "execution_count": null,
   "id": "ef03a7d6",
   "metadata": {},
   "outputs": [],
   "source": [
    "Weekly = pd.read_csv('/users/lauragallo/Desktop/DATA/MFoA-data-weekly.csv')"
   ]
  },
  {
   "cell_type": "code",
   "execution_count": null,
   "id": "24eb9356",
   "metadata": {},
   "outputs": [],
   "source": [
    "Weekly.info()   "
   ]
  },
  {
   "cell_type": "code",
   "execution_count": null,
   "id": "2e228cb0",
   "metadata": {},
   "outputs": [],
   "source": [
    "Weekly.head(23)"
   ]
  },
  {
   "cell_type": "code",
   "execution_count": null,
   "id": "7261c200",
   "metadata": {},
   "outputs": [],
   "source": [
    "Weekly.describe()"
   ]
  },
  {
   "cell_type": "code",
   "execution_count": null,
   "id": "4123f5ac",
   "metadata": {},
   "outputs": [],
   "source": [
    "Weekly.isna()"
   ]
  },
  {
   "cell_type": "code",
   "execution_count": null,
   "id": "62e12767",
   "metadata": {},
   "outputs": [],
   "source": [
    "columns_to_drop = ['FLOW', 'Arousal', 'Positivity']  # Replace with the actual column names\n",
    "STAI = Weekly.drop(columns_to_drop, axis=1)\n",
    "\n",
    "STAI"
   ]
  },
  {
   "cell_type": "code",
   "execution_count": null,
   "id": "dc9fe821",
   "metadata": {},
   "outputs": [],
   "source": [
    "Weekly.corr()"
   ]
  },
  {
   "cell_type": "code",
   "execution_count": null,
   "id": "ce15870f",
   "metadata": {},
   "outputs": [],
   "source": [
    "corr = Weekly.corr().round(2)\n",
    "\n",
    "# plot the heatmap\n",
    "plt.figure(figsize = (15,10))\n",
    "\n",
    "#viz the heatmap\n",
    "sns.heatmap(corr, annot= True)"
   ]
  },
  {
   "cell_type": "code",
   "execution_count": null,
   "id": "5f44b32b",
   "metadata": {},
   "outputs": [],
   "source": [
    "# Define a custom color palette (you can replace these with your desired colors)\n",
    "custom_palette = [\"#7c1c5b\"]\n",
    "\n",
    "# Set the custom color palette\n",
    "sns.set_palette(custom_palette)\n",
    "ax = corr['Week_number'].sort_values()[:-1].plot(kind = 'bar', figsize = (10,6))\n",
    "ax.set_title('Spearman Correlation of Weekly Survey Results', loc='left', y=1.05)\n",
    "\n",
    "ax.bar_label(ax.containers[0]);"
   ]
  },
  {
   "cell_type": "code",
   "execution_count": null,
   "id": "b3ee38c1",
   "metadata": {},
   "outputs": [],
   "source": [
    "Weekly.hist(figsize = (10, 8), grid = False, color= '#7c1c5b');"
   ]
  },
  {
   "cell_type": "code",
   "execution_count": null,
   "id": "bc176554",
   "metadata": {},
   "outputs": [],
   "source": [
    "import numpy as np\n",
    "\n",
    "# Example demographic and measurement data\n",
    "demographic_data = {\n",
    "    'Age': [52,23,20,72,24,28,57,32,26,28,50,51,61,25,19,31,56,31,53,24,25,23],\n",
    "    'Gender': ['Female','Non-binary','Female','Female','Female','Male','Male','Female','Female','Female','Male','Female','Female','Male','Prefer not to say','Female','Male','Female','Male','Male','Female','Female'],\n",
    "    'Ethnicity': ['HispLat','White','Asian','White','White','White','White','Asian','HispLat','Mixed','Mixed','White','Other','HispLat','HispLat','Asian','HispLat','White','Asian','White','White','White'],\n",
    "}\n",
    "\n",
    "\n",
    "measurement_data = [8,-2,1,-5,-12,-18,5,0,-6,-3,-10,-8,-12,-12,-2,-3,7]\n",
    "\n",
    "# Calculate Mean (Mage), Standard Deviation (SD), and Range\n",
    "mage = np.mean(np.abs(np.array(measurement_data)))\n",
    "sd = np.std(measurement_data)\n",
    "data_range = np.ptp(measurement_data)\n",
    "\n",
    "print(\"Mean Absolute Gross Error (Mage):\", mage)\n",
    "print(\"Standard Deviation (SD):\", sd)\n",
    "print(\"Range:\", data_range)"
   ]
  },
  {
   "cell_type": "code",
   "execution_count": null,
   "id": "1c290812",
   "metadata": {},
   "outputs": [],
   "source": [
    "WeeklyV2 = pd.read_csv('/users/lauragallo/Desktop/DATA/MFoA-data-weeklyV2.csv')"
   ]
  },
  {
   "cell_type": "code",
   "execution_count": null,
   "id": "97b362f5",
   "metadata": {},
   "outputs": [],
   "source": [
    "WeeklyV2.info()   "
   ]
  },
  {
   "cell_type": "code",
   "execution_count": null,
   "id": "64eed27d",
   "metadata": {},
   "outputs": [],
   "source": [
    "WeeklyV2.head(22)"
   ]
  },
  {
   "cell_type": "code",
   "execution_count": null,
   "id": "c58e3fe1",
   "metadata": {},
   "outputs": [],
   "source": [
    "WeeklyV2.describe()"
   ]
  },
  {
   "cell_type": "code",
   "execution_count": null,
   "id": "1188a157",
   "metadata": {},
   "outputs": [],
   "source": [
    "WeeklyV2.isna()"
   ]
  },
  {
   "cell_type": "code",
   "execution_count": null,
   "id": "fe9149ee",
   "metadata": {},
   "outputs": [],
   "source": [
    "pip install pandas scipy"
   ]
  },
  {
   "cell_type": "code",
   "execution_count": null,
   "id": "ba07a197",
   "metadata": {},
   "outputs": [],
   "source": [
    "contingency_table = pd.crosstab(WeeklyV2['Pre_Intervention'], WeeklyV2['Post_Intervention'])"
   ]
  },
  {
   "cell_type": "code",
   "execution_count": null,
   "id": "e4fb73b5",
   "metadata": {},
   "outputs": [],
   "source": [
    "from scipy.stats import chi2_contingency\n",
    "\n",
    "chi2, p, dof, expected = chi2_contingency(contingency_table)\n",
    "\n",
    "# Output the results\n",
    "print(f\"Chi-squared statistic: {chi2}\")\n",
    "print(f\"P-value: {p}\")\n",
    "print(f\"Degrees of freedom: {dof}\")\n",
    "print(\"Expected frequencies:\")\n",
    "print(expected)"
   ]
  },
  {
   "cell_type": "code",
   "execution_count": null,
   "id": "c05938e1",
   "metadata": {},
   "outputs": [],
   "source": [
    "from scipy.stats import pearsonr\n",
    "correlation, p_value = pearsonr(WeeklyV2['Pre_Intervention'], WeeklyV2['Post_Intervention'])"
   ]
  },
  {
   "cell_type": "code",
   "execution_count": null,
   "id": "90919a9a",
   "metadata": {},
   "outputs": [],
   "source": [
    "correlation_coefficient, p_value = pearsonr(WeeklyV2['Pre_Intervention'], WeeklyV2['Post_Intervention'])\n",
    "\n",
    "# Output the results\n",
    "print(f\"Pearson correlation coefficient (r): {correlation_coefficient}\")\n",
    "print(f\"P-value: {p_value}\")"
   ]
  },
  {
   "cell_type": "code",
   "execution_count": null,
   "id": "2f6b2d00",
   "metadata": {},
   "outputs": [],
   "source": [
    "contingency_table = pd.crosstab(WeeklyV2['Initial_STAI'], WeeklyV2['Final_STAI'])"
   ]
  },
  {
   "cell_type": "code",
   "execution_count": null,
   "id": "7140d196",
   "metadata": {},
   "outputs": [],
   "source": [
    "from scipy.stats import chi2_contingency\n",
    "\n",
    "chi2, p, dof, expected = chi2_contingency(contingency_table)\n",
    "\n",
    "# Output the results\n",
    "print(f\"Chi-squared statistic: {chi2}\")\n",
    "print(f\"P-value: {p}\")\n",
    "print(f\"Degrees of freedom: {dof}\")\n",
    "print(\"Expected frequencies:\")\n",
    "print(expected)"
   ]
  },
  {
   "cell_type": "code",
   "execution_count": null,
   "id": "5ee65686",
   "metadata": {},
   "outputs": [],
   "source": []
  }
 ],
 "metadata": {
  "kernelspec": {
   "display_name": "Python 3 (ipykernel)",
   "language": "python",
   "name": "python3"
  },
  "language_info": {
   "codemirror_mode": {
    "name": "ipython",
    "version": 3
   },
   "file_extension": ".py",
   "mimetype": "text/x-python",
   "name": "python",
   "nbconvert_exporter": "python",
   "pygments_lexer": "ipython3",
   "version": "3.9.13"
  }
 },
 "nbformat": 4,
 "nbformat_minor": 5
}
